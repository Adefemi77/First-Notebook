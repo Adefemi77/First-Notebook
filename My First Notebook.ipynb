{
 "cells": [
  {
   "cell_type": "code",
   "execution_count": 1,
   "id": "abbce6d5",
   "metadata": {},
   "outputs": [
    {
     "name": "stdout",
     "output_type": "stream",
     "text": [
      "Hello World\n"
     ]
    }
   ],
   "source": [
    "#I want to print hello world\n",
    "print(\"Hello World\")"
   ]
  },
  {
   "cell_type": "code",
   "execution_count": 2,
   "id": "3872892b",
   "metadata": {},
   "outputs": [],
   "source": [
    "instructor = \"Lalah\""
   ]
  },
  {
   "cell_type": "code",
   "execution_count": 3,
   "id": "45245a42",
   "metadata": {},
   "outputs": [
    {
     "name": "stdout",
     "output_type": "stream",
     "text": [
      "Lalah\n"
     ]
    }
   ],
   "source": [
    "print(instructor)"
   ]
  },
  {
   "cell_type": "code",
   "execution_count": 4,
   "id": "4a82b2fd",
   "metadata": {},
   "outputs": [],
   "source": [
    "#name = input(\"What is your name:\")\n",
    "#print(name)"
   ]
  },
  {
   "cell_type": "code",
   "execution_count": 5,
   "id": "4b300894",
   "metadata": {},
   "outputs": [],
   "source": [
    "age = 30"
   ]
  },
  {
   "cell_type": "code",
   "execution_count": 6,
   "id": "8e23efbe",
   "metadata": {},
   "outputs": [
    {
     "name": "stdout",
     "output_type": "stream",
     "text": [
      "30\n"
     ]
    }
   ],
   "source": [
    "print(age)"
   ]
  },
  {
   "cell_type": "code",
   "execution_count": 7,
   "id": "9c3fc3ff",
   "metadata": {},
   "outputs": [
    {
     "name": "stdout",
     "output_type": "stream",
     "text": [
      "<class 'int'>\n"
     ]
    }
   ],
   "source": [
    "print(type(age))"
   ]
  },
  {
   "cell_type": "code",
   "execution_count": 8,
   "id": "ba954356",
   "metadata": {},
   "outputs": [],
   "source": [
    "boolean = True"
   ]
  },
  {
   "cell_type": "code",
   "execution_count": 10,
   "id": "efed6391",
   "metadata": {},
   "outputs": [
    {
     "name": "stdout",
     "output_type": "stream",
     "text": [
      "<class 'bool'>\n"
     ]
    }
   ],
   "source": [
    "print(type(boolean))"
   ]
  },
  {
   "cell_type": "code",
   "execution_count": 11,
   "id": "59162fa4",
   "metadata": {},
   "outputs": [],
   "source": [
    "age2 = \"40\"\n",
    "name = \"Lalah\""
   ]
  },
  {
   "cell_type": "code",
   "execution_count": 12,
   "id": "cabdb8dd",
   "metadata": {},
   "outputs": [
    {
     "data": {
      "text/plain": [
       "'40Lalah'"
      ]
     },
     "execution_count": 12,
     "metadata": {},
     "output_type": "execute_result"
    }
   ],
   "source": [
    "age2 +name"
   ]
  },
  {
   "cell_type": "code",
   "execution_count": 15,
   "id": "2fb4c86b",
   "metadata": {},
   "outputs": [],
   "source": [
    "sales = \"1.2\"\n",
    "name = \"WDC\""
   ]
  },
  {
   "cell_type": "code",
   "execution_count": null,
   "id": "e6413eca",
   "metadata": {},
   "outputs": [],
   "source": [
    "#print(f'{name} )"
   ]
  },
  {
   "cell_type": "code",
   "execution_count": 17,
   "id": "d571dacb",
   "metadata": {},
   "outputs": [
    {
     "name": "stdout",
     "output_type": "stream",
     "text": [
      "josh\n"
     ]
    }
   ],
   "source": [
    "student = \"josh\"\n",
    "print(student)"
   ]
  },
  {
   "cell_type": "code",
   "execution_count": 18,
   "id": "2ce1f4ad",
   "metadata": {},
   "outputs": [
    {
     "data": {
      "text/plain": [
       "'Josh'"
      ]
     },
     "execution_count": 18,
     "metadata": {},
     "output_type": "execute_result"
    }
   ],
   "source": [
    "student.capitalize()"
   ]
  },
  {
   "cell_type": "code",
   "execution_count": 19,
   "id": "fbf1c277",
   "metadata": {},
   "outputs": [
    {
     "data": {
      "text/plain": [
       "'JOSH'"
      ]
     },
     "execution_count": 19,
     "metadata": {},
     "output_type": "execute_result"
    }
   ],
   "source": [
    "student.upper()"
   ]
  },
  {
   "cell_type": "code",
   "execution_count": 20,
   "id": "8b38ba37",
   "metadata": {},
   "outputs": [
    {
     "name": "stdout",
     "output_type": "stream",
     "text": [
      "Ade\n"
     ]
    }
   ],
   "source": [
    "name = \"Ade\"\n",
    "print(name)"
   ]
  },
  {
   "cell_type": "code",
   "execution_count": 21,
   "id": "d82bf414",
   "metadata": {},
   "outputs": [
    {
     "name": "stdout",
     "output_type": "stream",
     "text": [
      "Hello\n"
     ]
    }
   ],
   "source": [
    "print(\"Hello\")"
   ]
  },
  {
   "cell_type": "code",
   "execution_count": 24,
   "id": "3071a752",
   "metadata": {},
   "outputs": [
    {
     "name": "stdout",
     "output_type": "stream",
     "text": [
      "Ade\n"
     ]
    }
   ],
   "source": [
    "print(name)"
   ]
  },
  {
   "cell_type": "code",
   "execution_count": 28,
   "id": "21ab8b6c",
   "metadata": {},
   "outputs": [
    {
     "name": "stdout",
     "output_type": "stream",
     "text": [
      "Hello, Ade!\n"
     ]
    }
   ],
   "source": [
    "print(f\"Hello, {name}!\")"
   ]
  },
  {
   "cell_type": "code",
   "execution_count": 31,
   "id": "d9a6a502",
   "metadata": {},
   "outputs": [
    {
     "name": "stdout",
     "output_type": "stream",
     "text": [
      "11\n"
     ]
    }
   ],
   "source": [
    "number = 6\n",
    "add_5 = number +5\n",
    "print(add_5)"
   ]
  },
  {
   "cell_type": "code",
   "execution_count": 32,
   "id": "0395bb79",
   "metadata": {},
   "outputs": [
    {
     "name": "stdout",
     "output_type": "stream",
     "text": [
      "11°F\n"
     ]
    }
   ],
   "source": [
    "number = 6\n",
    "add_5 = number +5\n",
    "print(f\"{add_5}°F\")"
   ]
  },
  {
   "cell_type": "code",
   "execution_count": 33,
   "id": "66a727b0",
   "metadata": {},
   "outputs": [],
   "source": [
    "F = 68\n",
    "celsius = (F - 32)/1.8"
   ]
  },
  {
   "cell_type": "code",
   "execution_count": 35,
   "id": "82b8001b",
   "metadata": {},
   "outputs": [
    {
     "name": "stdout",
     "output_type": "stream",
     "text": [
      "68°F = 20.0°C\n"
     ]
    }
   ],
   "source": [
    "print(f\"{F}°F = {celsius}°C\")"
   ]
  },
  {
   "cell_type": "code",
   "execution_count": 36,
   "id": "8615a8be",
   "metadata": {},
   "outputs": [
    {
     "name": "stdout",
     "output_type": "stream",
     "text": [
      "False\n",
      "True\n",
      "False\n",
      "True\n",
      "False\n",
      "True\n"
     ]
    }
   ],
   "source": [
    "var1 = 5\n",
    "var2 = 10\n",
    "\n",
    "print(var1 == var2)\n",
    "print(var1 != var2)\n",
    "print(var1 >= var2)\n",
    "print(var1 <= var2)\n",
    "print(var1 > var2)\n",
    "print(var1 < var2)\n"
   ]
  },
  {
   "cell_type": "code",
   "execution_count": 37,
   "id": "2d2ddcff",
   "metadata": {},
   "outputs": [
    {
     "name": "stdout",
     "output_type": "stream",
     "text": [
      "Excellent\n"
     ]
    }
   ],
   "source": [
    "score = 90\n",
    "\n",
    "if score >= 90:\n",
    "    print('Excellent')"
   ]
  },
  {
   "cell_type": "code",
   "execution_count": 39,
   "id": "313baadb",
   "metadata": {
    "scrolled": true
   },
   "outputs": [
    {
     "name": "stdout",
     "output_type": "stream",
     "text": [
      "Excellent\n"
     ]
    }
   ],
   "source": [
    "score = 90\n",
    "\n",
    "if score >= 90:\n",
    "    print('Excellent')\n",
    "elif score >= 70 and score >= 89:\n",
    "    print('Good')\n",
    "else:\n",
    "    print ('Below Average')\n",
    "    "
   ]
  },
  {
   "cell_type": "code",
   "execution_count": 46,
   "id": "3a325f4f",
   "metadata": {},
   "outputs": [
    {
     "name": "stdout",
     "output_type": "stream",
     "text": [
      "Excellent\n"
     ]
    }
   ],
   "source": [
    "score = 90\n",
    "\n",
    "if score >= 90:\n",
    "    print('Excellent')\n",
    "elif score >= 70 and score <= 89:\n",
    "    print('Good')\n",
    "elif score >= 50 and score <= 69:\n",
    "    print('Average')\n",
    "else:\n",
    "    print ('Below Average')\n",
    "\n"
   ]
  },
  {
   "cell_type": "code",
   "execution_count": null,
   "id": "8a7efc33",
   "metadata": {},
   "outputs": [],
   "source": []
  }
 ],
 "metadata": {
  "kernelspec": {
   "display_name": "Python 3 (ipykernel)",
   "language": "python",
   "name": "python3"
  },
  "language_info": {
   "codemirror_mode": {
    "name": "ipython",
    "version": 3
   },
   "file_extension": ".py",
   "mimetype": "text/x-python",
   "name": "python",
   "nbconvert_exporter": "python",
   "pygments_lexer": "ipython3",
   "version": "3.11.3"
  }
 },
 "nbformat": 4,
 "nbformat_minor": 5
}
